{
 "cells": [
  {
   "cell_type": "markdown",
   "metadata": {},
   "source": [
    "**Que. 6)  Calculate the age based on the date entered** "
   ]
  },
  {
   "cell_type": "code",
   "execution_count": 1,
   "metadata": {},
   "outputs": [
    {
     "name": "stdout",
     "output_type": "stream",
     "text": [
      "2001-12-21 00:00:00\n",
      "2025-01-20 20:23:10.917533\n",
      "My age is : 23\n"
     ]
    }
   ],
   "source": [
    "from datetime import datetime\n",
    "\n",
    "def current_age() :\n",
    "    n = input(\"Enter the birthdate (in YYYY-MM-DD format): \")\n",
    "    \n",
    "    # convert that str date into datetime format\n",
    "    DOB = datetime.strptime(n,\"%Y-%m-%d\")\n",
    "    Today = datetime.now()\n",
    "\n",
    "    print(DOB)\n",
    "    print(Today)\n",
    "\n",
    "    age = Today.year - DOB.year\n",
    "\n",
    "    if (Today.month,Today.day) < (DOB.month,DOB.day) :\n",
    "        age = age-1\n",
    "\n",
    "    print(\"My age is :\",age)\n",
    "\n",
    "\n",
    "current_age()   "
   ]
  }
 ],
 "metadata": {
  "kernelspec": {
   "display_name": "Python 3",
   "language": "python",
   "name": "python3"
  },
  "language_info": {
   "codemirror_mode": {
    "name": "ipython",
    "version": 3
   },
   "file_extension": ".py",
   "mimetype": "text/x-python",
   "name": "python",
   "nbconvert_exporter": "python",
   "pygments_lexer": "ipython3",
   "version": "3.12.3"
  }
 },
 "nbformat": 4,
 "nbformat_minor": 2
}
