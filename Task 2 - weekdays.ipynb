{
 "cells": [
  {
   "cell_type": "markdown",
   "metadata": {},
   "source": [
    "**Ques. 2) \n",
    "User will enter the start date and end date.**\n",
    "\n",
    "\n",
    "**Ask user to enter the task to be done on weekdays. If it is weekend then no task should be allotted.**"
   ]
  },
  {
   "cell_type": "code",
   "execution_count": 4,
   "metadata": {},
   "outputs": [
    {
     "name": "stdout",
     "output_type": "stream",
     "text": [
      "start date is : 2025-01-01\n"
     ]
    }
   ],
   "source": [
    "start_date = input(\"Enter start date in YYYY-MM-DD format\")\n",
    "print(\"start date is :\" , start_date)"
   ]
  },
  {
   "cell_type": "code",
   "execution_count": 7,
   "metadata": {},
   "outputs": [
    {
     "name": "stdout",
     "output_type": "stream",
     "text": [
      "end date is : 2025-01-10\n"
     ]
    }
   ],
   "source": [
    "end_date = input(\"Enter end date in YYYY-MM-DD format\")\n",
    "print(\"end date is :\" , end_date)"
   ]
  },
  {
   "cell_type": "code",
   "execution_count": 8,
   "metadata": {},
   "outputs": [
    {
     "name": "stdout",
     "output_type": "stream",
     "text": [
      "2025-01-04 is a weekend.\n",
      "2025-01-05 is a weekend.\n",
      "{'2025-01-01': 'collect the data', '2025-01-02': 'do the analysis on the data', '2025-01-03': 'fit model on data', '2025-01-06': 'do graphical representation', '2025-01-07': 'make a  dashboard', '2025-01-08': 'make a report', '2025-01-09': 'make ppt', '2025-01-10': 'do the presentation'}\n"
     ]
    }
   ],
   "source": [
    "from datetime import datetime, timedelta\n",
    "\n",
    "start_date = datetime.strptime(start_date, \"%Y-%m-%d\")\n",
    "end_date = datetime.strptime(end_date, \"%Y-%m-%d\")\n",
    "\n",
    "task = {}\n",
    "current_date = start_date\n",
    "while current_date <= end_date:\n",
    "    if current_date.weekday() < 5:  # Weekdays\n",
    "        task[str(current_date.date())]=input(f\"Task for {current_date.date()}: \")\n",
    "    else:\n",
    "        print(f\"{current_date.date()} is a weekend.\")\n",
    "    current_date += timedelta(days=1)\n",
    "\n",
    "print(task)"
   ]
  }
 ],
 "metadata": {
  "kernelspec": {
   "display_name": "Python 3",
   "language": "python",
   "name": "python3"
  },
  "language_info": {
   "codemirror_mode": {
    "name": "ipython",
    "version": 3
   },
   "file_extension": ".py",
   "mimetype": "text/x-python",
   "name": "python",
   "nbconvert_exporter": "python",
   "pygments_lexer": "ipython3",
   "version": "3.12.3"
  }
 },
 "nbformat": 4,
 "nbformat_minor": 2
}
