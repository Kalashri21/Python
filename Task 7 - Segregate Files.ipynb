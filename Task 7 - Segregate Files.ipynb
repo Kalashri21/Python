{
 "cells": [
  {
   "cell_type": "markdown",
   "metadata": {},
   "source": [
    "**Que. 7)\n",
    "Create a logic to segregate folders based on file size.** \n",
    "\n",
    "\n",
    "**Make 3 folders small size, middle size , large size folder and transfer the files to respective folders**"
   ]
  },
  {
   "cell_type": "code",
   "execution_count": 1,
   "metadata": {},
   "outputs": [],
   "source": [
    "import os         # operating system\n",
    "import shutil     # use to copy and move"
   ]
  },
  {
   "cell_type": "code",
   "execution_count": 2,
   "metadata": {},
   "outputs": [
    {
     "name": "stdout",
     "output_type": "stream",
     "text": [
      "C:\\Users\\Administrator\\Downloads\\Bizmetric document\\Background Verification Form Kalashri.pdf 735.094 kb\n",
      "C:\\Users\\Administrator\\Downloads\\Bizmetric document\\Biz-Metric Document Kalashri.pdf 3104.292 kb\n",
      "C:\\Users\\Administrator\\Downloads\\Bizmetric document\\Kalashri Documents.zip 4324.359 kb\n",
      "C:\\Users\\Administrator\\Downloads\\Bizmetric document\\Kalashri_Company Form.pdf 164.777 kb\n",
      "C:\\Users\\Administrator\\Downloads\\Bizmetric document\\NDA (Biz-Metric) Kalashri Borhade .pdf 538.867 kb\n",
      "C:\\Users\\Administrator\\Downloads\\Bizmetric document\\Offer Letter_Kalashri.pdf 286.407 kb\n",
      "C:\\Users\\Administrator\\Downloads\\Bizmetric document\\Service Agreement Kalashri Borhade.docx 17.191 kb\n",
      "C:\\Users\\Administrator\\Downloads\\Bizmetric document\\Service Agreement.pdf 4432.304 kb\n"
     ]
    }
   ],
   "source": [
    "# Iterate through files in the source directory\n",
    "\n",
    "for i in os.listdir(\"C:\\\\Users\\\\Administrator\\\\Downloads\\\\Bizmetric document\") :\n",
    "    filename = \"C:\\\\Users\\\\Administrator\\\\Downloads\\\\Bizmetric document\\\\\"+i\n",
    "\n",
    "    sz = os.stat(filename).st_size/1000   # size in kb\n",
    "    print(filename, sz, \"kb\")\n",
    "\n",
    "    # Determine destination directory based on file size\n",
    "    \n",
    "    if sz > 200 and sz < 500 :\n",
    "        shutil.copy(filename,\"C:\\\\Users\\\\Administrator\\\\Downloads\\\\new\\\\small\")\n",
    "\n",
    "    elif sz > 500 and sz < 800 :\n",
    "        shutil.copy(filename,\"C:\\\\Users\\\\Administrator\\\\Downloads\\\\new\\\\medium\")\n",
    "        \n",
    "    else :\n",
    "        shutil.copy(filename,\"C:\\\\Users\\\\Administrator\\\\Downloads\\\\new\\\\large\")"
   ]
  }
 ],
 "metadata": {
  "kernelspec": {
   "display_name": "Python 3",
   "language": "python",
   "name": "python3"
  },
  "language_info": {
   "codemirror_mode": {
    "name": "ipython",
    "version": 3
   },
   "file_extension": ".py",
   "mimetype": "text/x-python",
   "name": "python",
   "nbconvert_exporter": "python",
   "pygments_lexer": "ipython3",
   "version": "3.12.3"
  }
 },
 "nbformat": 4,
 "nbformat_minor": 2
}
