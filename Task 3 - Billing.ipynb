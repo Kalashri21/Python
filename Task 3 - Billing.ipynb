{
 "cells": [
  {
   "cell_type": "markdown",
   "metadata": {},
   "source": [
    "**Que. 3)**\n",
    "**Generate the bill with proper format to create the bill file. User may enter more than 1 element** "
   ]
  },
  {
   "cell_type": "code",
   "execution_count": 3,
   "metadata": {},
   "outputs": [
    {
     "name": "stdout",
     "output_type": "stream",
     "text": [
      "\n",
      "Sr.  Item Description           Quantity   Price      Total\n",
      "============================================================\n",
      "1    Solar Panel Model         5          250.00     1250.00   \n",
      "2    Inverter Model            2          450.00     900.00    \n",
      "3    Battery Model             4          150.00     600.00    \n",
      "4    Model                     6          150.00     900.00    \n",
      "============================================================\n",
      "Grand Total:                                       3650.00   \n"
     ]
    }
   ],
   "source": [
    "# Input the number of items\n",
    "items = []\n",
    "for i in range(int(input(\"Enter the number of items: \"))):\n",
    "    desc = input(f\"\\nItem {i + 1} Description: \")\n",
    "    qty = int(input(\"Quantity: \"))\n",
    "    price = float(input(\"Price: \"))\n",
    "    items.append({\"description\": desc, \"quantity\": qty, \"price\": price})\n",
    "\n",
    "# Print Header\n",
    "print(\"\\nSr.  Item Description           Quantity   Price      Total\")\n",
    "print(\"=\" * 60)\n",
    "\n",
    "# Print Items and Calculate Total\n",
    "grand_total = 0\n",
    "for sr_no, item in enumerate(items, start=1):\n",
    "    total = item[\"quantity\"] * item[\"price\"]\n",
    "    grand_total += total\n",
    "    print(f\"{sr_no:<4} {item['description']:<25} {item['quantity']:<10} {item['price']:<10.2f} {total:<10.2f}\")\n",
    "\n",
    "# Print Footer\n",
    "print(\"=\" * 60)\n",
    "print(f\"{'Grand Total:':<50} {grand_total:<10.2f}\")"
   ]
  }
 ],
 "metadata": {
  "kernelspec": {
   "display_name": "Python 3",
   "language": "python",
   "name": "python3"
  },
  "language_info": {
   "codemirror_mode": {
    "name": "ipython",
    "version": 3
   },
   "file_extension": ".py",
   "mimetype": "text/x-python",
   "name": "python",
   "nbconvert_exporter": "python",
   "pygments_lexer": "ipython3",
   "version": "3.12.3"
  }
 },
 "nbformat": 4,
 "nbformat_minor": 2
}
