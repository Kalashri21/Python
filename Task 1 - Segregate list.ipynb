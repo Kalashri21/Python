{
 "cells": [
  {
   "cell_type": "markdown",
   "metadata": {},
   "source": [
    "**Que. 1) Create the list of mix element by asking user to enter the values.**\n",
    "\n",
    "**Segregate the mixed data type list into two different list**"
   ]
  },
  {
   "cell_type": "code",
   "execution_count": 4,
   "metadata": {},
   "outputs": [
    {
     "name": "stdout",
     "output_type": "stream",
     "text": [
      "Integers: [1, 2, 7, 4]\n",
      "Strings: ['kala', 'sakshi']\n",
      "Sets: [{2, 4, 6, 7}]\n",
      "Lists: [[1, 2, 3], [1, 4, 5, 'kartik']]\n"
     ]
    }
   ],
   "source": [
    "mixed_list = [[1,2,3],1, 2, 7, 'kala', 'sakshi', 4, {2, 4, 7, 4, 6}, [1, 4, 5, 'kartik']]\n",
    "\n",
    "\n",
    "int_lst = []\n",
    "str_lst = []\n",
    "set_lst = []\n",
    "list_lst = []\n",
    "\n",
    "# Segregate the elements by type\n",
    "for item in mixed_list:\n",
    "    if type(item) == int:\n",
    "        int_lst.append(item)\n",
    "    elif type(item) == str:\n",
    "        str_lst.append(item)\n",
    "    elif type(item) == set:\n",
    "        set_lst.append(item)\n",
    "    else:\n",
    "        list_lst.append(item)\n",
    "\n",
    "\n",
    "print(\"Integers:\", int_lst)\n",
    "print(\"Strings:\", str_lst)\n",
    "print(\"Sets:\", set_lst)\n",
    "print(\"Lists:\", list_lst)"
   ]
  },
  {
   "cell_type": "markdown",
   "metadata": {},
   "source": []
  }
 ],
 "metadata": {
  "kernelspec": {
   "display_name": "Python 3",
   "language": "python",
   "name": "python3"
  },
  "language_info": {
   "codemirror_mode": {
    "name": "ipython",
    "version": 3
   },
   "file_extension": ".py",
   "mimetype": "text/x-python",
   "name": "python",
   "nbconvert_exporter": "python",
   "pygments_lexer": "ipython3",
   "version": "3.12.3"
  }
 },
 "nbformat": 4,
 "nbformat_minor": 2
}
